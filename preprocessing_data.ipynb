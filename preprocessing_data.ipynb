{
 "cells": [
  {
   "cell_type": "code",
   "execution_count": 11,
   "id": "cadf559b",
   "metadata": {},
   "outputs": [],
   "source": [
    "import numpy as np\n",
    "import matplotlib.pyplot as plt\n",
    "import pandas as pd"
   ]
  },
  {
   "cell_type": "code",
   "execution_count": 12,
   "id": "8d6ae62d",
   "metadata": {},
   "outputs": [],
   "source": [
    "data = pd.read_csv('data.csv')"
   ]
  },
  {
   "cell_type": "code",
   "execution_count": 13,
   "id": "e34b303b",
   "metadata": {},
   "outputs": [],
   "source": [
    "x = data.iloc[:, :-1].values\n",
    "y = data.iloc[:, -1].values"
   ]
  },
  {
   "cell_type": "code",
   "execution_count": 14,
   "id": "ab105df8",
   "metadata": {},
   "outputs": [
    {
     "name": "stdout",
     "output_type": "stream",
     "text": [
      "[['East' 2012 'Q1']\n",
      " ['East' 2012 'Q1']\n",
      " ['West' 2012 'Q1']\n",
      " ...\n",
      " ['West' 2012 nan]\n",
      " ['West' 2014 'Q3']\n",
      " ['West' 2015 'Q4']]\n"
     ]
    }
   ],
   "source": [
    "print(x)"
   ]
  },
  {
   "cell_type": "code",
   "execution_count": 15,
   "id": "8108dcc7",
   "metadata": {},
   "outputs": [
    {
     "name": "stdout",
     "output_type": "stream",
     "text": [
      "[-111.8  -342.91 -193.08 ... -135.16  -73.83  192.06]\n"
     ]
    }
   ],
   "source": [
    "print(y)"
   ]
  },
  {
   "cell_type": "code",
   "execution_count": 16,
   "id": "1a5fb93e",
   "metadata": {},
   "outputs": [
    {
     "data": {
      "text/plain": [
       "Region                    0\n",
       "Year of Order Date        0\n",
       "Quarter of Order Date    14\n",
       "Profit                    7\n",
       "dtype: int64"
      ]
     },
     "execution_count": 16,
     "metadata": {},
     "output_type": "execute_result"
    }
   ],
   "source": [
    "data.isna().sum()"
   ]
  },
  {
   "cell_type": "code",
   "execution_count": 17,
   "id": "12b927cc",
   "metadata": {},
   "outputs": [
    {
     "name": "stdout",
     "output_type": "stream",
     "text": [
      "Region                    object\n",
      "Year of Order Date         int64\n",
      "Quarter of Order Date     object\n",
      "Profit                   float64\n",
      "dtype: object\n"
     ]
    }
   ],
   "source": [
    "print(data.dtypes)"
   ]
  },
  {
   "cell_type": "code",
   "execution_count": 18,
   "id": "c6e0adff",
   "metadata": {},
   "outputs": [
    {
     "name": "stdout",
     "output_type": "stream",
     "text": [
      "181.2837540015492\n"
     ]
    }
   ],
   "source": [
    "rata_profit = data['Profit'].mean()\n",
    "print(rata_profit)"
   ]
  },
  {
   "cell_type": "code",
   "execution_count": 19,
   "id": "3d6c098e",
   "metadata": {},
   "outputs": [],
   "source": [
    "data['Profit'] = data['Profit'].fillna('rata_profit')"
   ]
  },
  {
   "cell_type": "code",
   "execution_count": 20,
   "id": "de2bed92",
   "metadata": {},
   "outputs": [
    {
     "data": {
      "text/plain": [
       "Region                    0\n",
       "Year of Order Date        0\n",
       "Quarter of Order Date    14\n",
       "Profit                    0\n",
       "dtype: int64"
      ]
     },
     "execution_count": 20,
     "metadata": {},
     "output_type": "execute_result"
    }
   ],
   "source": [
    "data.isna().sum()"
   ]
  },
  {
   "cell_type": "code",
   "execution_count": 21,
   "id": "63afc40c",
   "metadata": {},
   "outputs": [
    {
     "name": "stdout",
     "output_type": "stream",
     "text": [
      "0    Q3\n",
      "Name: Quarter of Order Date, dtype: object\n"
     ]
    }
   ],
   "source": [
    "modus = data['Quarter of Order Date'].mode()\n",
    "print(modus)"
   ]
  },
  {
   "cell_type": "code",
   "execution_count": 22,
   "id": "56451ac0",
   "metadata": {},
   "outputs": [],
   "source": [
    "data['Quarter of Order Date'] = data['Quarter of Order Date'].fillna('modus')"
   ]
  },
  {
   "cell_type": "code",
   "execution_count": 23,
   "id": "82d6296a",
   "metadata": {},
   "outputs": [
    {
     "data": {
      "text/plain": [
       "Region                   0\n",
       "Year of Order Date       0\n",
       "Quarter of Order Date    0\n",
       "Profit                   0\n",
       "dtype: int64"
      ]
     },
     "execution_count": 23,
     "metadata": {},
     "output_type": "execute_result"
    }
   ],
   "source": [
    "data.isna().sum()"
   ]
  },
  {
   "cell_type": "code",
   "execution_count": 24,
   "id": "74a01cb4",
   "metadata": {},
   "outputs": [
    {
     "name": "stdout",
     "output_type": "stream",
     "text": [
      "Region                   object\n",
      "Year of Order Date        int64\n",
      "Quarter of Order Date    object\n",
      "Profit                   object\n",
      "dtype: object\n"
     ]
    }
   ],
   "source": [
    "print(data.dtypes)"
   ]
  },
  {
   "cell_type": "code",
   "execution_count": 25,
   "id": "f57df5c9",
   "metadata": {},
   "outputs": [
    {
     "name": "stdout",
     "output_type": "stream",
     "text": [
      "[['East' 2012 'Q1']\n",
      " ['East' 2012 'Q1']\n",
      " ['West' 2012 'Q1']\n",
      " ...\n",
      " ['West' 2012 nan]\n",
      " ['West' 2014 'Q3']\n",
      " ['West' 2015 'Q4']]\n"
     ]
    }
   ],
   "source": [
    "print(x)"
   ]
  },
  {
   "cell_type": "code",
   "execution_count": 26,
   "id": "22345356",
   "metadata": {},
   "outputs": [],
   "source": [
    "from sklearn.compose import ColumnTransformer\n",
    "from sklearn.preprocessing import OneHotEncoder\n",
    "ct = ColumnTransformer(transformers=[('encoder', OneHotEncoder(),[0,2])], remainder='passthrough')\n",
    "x = np.array(ct.fit_transform(x))"
   ]
  },
  {
   "cell_type": "code",
   "execution_count": 27,
   "id": "284bb8a0",
   "metadata": {},
   "outputs": [
    {
     "name": "stdout",
     "output_type": "stream",
     "text": [
      "[[0.0 1.0 0.0 ... 0.0 0.0 2012]\n",
      " [0.0 1.0 0.0 ... 0.0 0.0 2012]\n",
      " [0.0 0.0 0.0 ... 0.0 0.0 2012]\n",
      " ...\n",
      " [0.0 0.0 0.0 ... 0.0 1.0 2012]\n",
      " [0.0 0.0 0.0 ... 0.0 0.0 2014]\n",
      " [0.0 0.0 0.0 ... 1.0 0.0 2015]]\n"
     ]
    }
   ],
   "source": [
    "print(x)"
   ]
  },
  {
   "cell_type": "code",
   "execution_count": 28,
   "id": "00852a9a",
   "metadata": {},
   "outputs": [],
   "source": [
    "from sklearn.preprocessing import LabelEncoder\n",
    "le = LabelEncoder()\n",
    "y = le.fit_transform(y)"
   ]
  },
  {
   "cell_type": "code",
   "execution_count": 29,
   "id": "2b2ceef0",
   "metadata": {},
   "outputs": [
    {
     "name": "stdout",
     "output_type": "stream",
     "text": [
      "[1672  645 1046 ... 1426 2148 6006]\n"
     ]
    }
   ],
   "source": [
    "print(y)"
   ]
  },
  {
   "cell_type": "code",
   "execution_count": 30,
   "id": "7c3037d0",
   "metadata": {},
   "outputs": [],
   "source": [
    "from sklearn.model_selection import train_test_split\n",
    "x_train, x_test, y_train, y_test = train_test_split(x, y, test_size = 0.2, random_state = 1)"
   ]
  },
  {
   "cell_type": "code",
   "execution_count": 31,
   "id": "1c46d2ac",
   "metadata": {},
   "outputs": [
    {
     "name": "stdout",
     "output_type": "stream",
     "text": [
      "[[0.0 1.0 0.0 ... 1.0 0.0 2013]\n",
      " [0.0 1.0 0.0 ... 0.0 0.0 2015]\n",
      " [1.0 0.0 0.0 ... 1.0 0.0 2013]\n",
      " ...\n",
      " [0.0 1.0 0.0 ... 0.0 0.0 2012]\n",
      " [1.0 0.0 0.0 ... 1.0 0.0 2015]\n",
      " [0.0 0.0 1.0 ... 0.0 0.0 2012]]\n"
     ]
    }
   ],
   "source": [
    "print(x_train)"
   ]
  },
  {
   "cell_type": "code",
   "execution_count": 32,
   "id": "900b226e",
   "metadata": {},
   "outputs": [
    {
     "name": "stdout",
     "output_type": "stream",
     "text": [
      "[[0.0 0.0 0.0 ... 0.0 0.0 2014]\n",
      " [0.0 0.0 0.0 ... 0.0 0.0 2013]\n",
      " [0.0 0.0 1.0 ... 0.0 0.0 2014]\n",
      " ...\n",
      " [0.0 1.0 0.0 ... 0.0 0.0 2013]\n",
      " [1.0 0.0 0.0 ... 0.0 0.0 2013]\n",
      " [0.0 1.0 0.0 ... 0.0 0.0 2014]]\n"
     ]
    }
   ],
   "source": [
    "print(x_test)"
   ]
  },
  {
   "cell_type": "code",
   "execution_count": 33,
   "id": "fc835ebe",
   "metadata": {},
   "outputs": [
    {
     "name": "stdout",
     "output_type": "stream",
     "text": [
      "[ 494 6673  831 ...  209 4445   60]\n"
     ]
    }
   ],
   "source": [
    "print(y_train)"
   ]
  },
  {
   "cell_type": "code",
   "execution_count": 34,
   "id": "4e17808d",
   "metadata": {},
   "outputs": [
    {
     "name": "stdout",
     "output_type": "stream",
     "text": [
      "[2452 2493 1258 ... 1616 6188 2825]\n"
     ]
    }
   ],
   "source": [
    "print(y_test)"
   ]
  },
  {
   "cell_type": "code",
   "execution_count": 36,
   "id": "efac7632",
   "metadata": {},
   "outputs": [],
   "source": [
    "from sklearn.preprocessing import StandardScaler\n",
    "sc = StandardScaler()\n",
    "x_train[:,-1:] = sc.fit_transform(x_train[:,-1:])\n",
    "x_test[:,-1:] = sc.fit_transform(x_test[:,-1:])\n",
    "y_train = sc.fit_transform(y_train.reshape(-1,1))\n",
    "y_test = sc.fit_transform(y_test.reshape(-1,1))"
   ]
  },
  {
   "cell_type": "code",
   "execution_count": 37,
   "id": "770fac5a",
   "metadata": {},
   "outputs": [
    {
     "name": "stdout",
     "output_type": "stream",
     "text": [
      "[[0.0 1.0 0.0 ... 1.0 0.0 -0.42506261514329724]\n",
      " [0.0 1.0 0.0 ... 0.0 0.0 1.3488477644516923]\n",
      " [1.0 0.0 0.0 ... 1.0 0.0 -0.42506261514329724]\n",
      " ...\n",
      " [0.0 1.0 0.0 ... 0.0 0.0 -1.312017804940792]\n",
      " [1.0 0.0 0.0 ... 1.0 0.0 1.3488477644516923]\n",
      " [0.0 0.0 1.0 ... 0.0 0.0 -1.312017804940792]]\n"
     ]
    }
   ],
   "source": [
    "print(x_train)"
   ]
  },
  {
   "cell_type": "code",
   "execution_count": 38,
   "id": "1aa336ae",
   "metadata": {},
   "outputs": [
    {
     "name": "stdout",
     "output_type": "stream",
     "text": [
      "[[0.0 0.0 0.0 ... 0.0 0.0 0.4546389881476175]\n",
      " [0.0 0.0 0.0 ... 0.0 0.0 -0.4471242941287571]\n",
      " [0.0 0.0 1.0 ... 0.0 0.0 0.4546389881476175]\n",
      " ...\n",
      " [0.0 1.0 0.0 ... 0.0 0.0 -0.4471242941287571]\n",
      " [1.0 0.0 0.0 ... 0.0 0.0 -0.4471242941287571]\n",
      " [0.0 1.0 0.0 ... 0.0 0.0 0.4546389881476175]]\n"
     ]
    }
   ],
   "source": [
    "print(x_test)"
   ]
  },
  {
   "cell_type": "code",
   "execution_count": 39,
   "id": "e61844d4",
   "metadata": {},
   "outputs": [
    {
     "name": "stdout",
     "output_type": "stream",
     "text": [
      "[[-1.53646174]\n",
      " [ 1.19419762]\n",
      " [-1.38753275]\n",
      " ...\n",
      " [-1.66241058]\n",
      " [ 0.209587  ]\n",
      " [-1.72825752]]\n"
     ]
    }
   ],
   "source": [
    "print(y_train)"
   ]
  },
  {
   "cell_type": "code",
   "execution_count": 40,
   "id": "28ca3464",
   "metadata": {},
   "outputs": [
    {
     "name": "stdout",
     "output_type": "stream",
     "text": [
      "[[-0.62288106]\n",
      " [-0.604924  ]\n",
      " [-1.14582589]\n",
      " ...\n",
      " [-0.98903003]\n",
      " [ 1.0134019 ]\n",
      " [-0.45951555]]\n"
     ]
    }
   ],
   "source": [
    "print(y_test)"
   ]
  },
  {
   "cell_type": "code",
   "execution_count": null,
   "id": "165fd650",
   "metadata": {},
   "outputs": [],
   "source": []
  }
 ],
 "metadata": {
  "kernelspec": {
   "display_name": "Python 3 (ipykernel)",
   "language": "python",
   "name": "python3"
  },
  "language_info": {
   "codemirror_mode": {
    "name": "ipython",
    "version": 3
   },
   "file_extension": ".py",
   "mimetype": "text/x-python",
   "name": "python",
   "nbconvert_exporter": "python",
   "pygments_lexer": "ipython3",
   "version": "3.9.13"
  }
 },
 "nbformat": 4,
 "nbformat_minor": 5
}
